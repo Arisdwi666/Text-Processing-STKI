{
  "cells": [
    {
      "cell_type": "markdown",
      "metadata": {
        "id": "zN_9c2YrWmRh"
      },
      "source": [
        "# Text Preprocessing\n",
        "\n",
        "---\n",
        "Nama : Aris Dwi Wahyudi\n",
        "\n",
        "\n",
        "---\n",
        "Nim : A11.2020.13070\n"
      ]
    },
    {
      "cell_type": "markdown",
      "metadata": {
        "id": "aI75RTNoQpo8"
      },
      "source": [
        "# Import Library"
      ]
    },
    {
      "cell_type": "code",
      "execution_count": 1,
      "metadata": {
        "id": "zmUB_uFSAPpl"
      },
      "outputs": [],
      "source": [
        "import json\n",
        "import pandas as pd\n",
        "import os\n",
        "import numpy as np"
      ]
    },
    {
      "cell_type": "code",
      "execution_count": 2,
      "metadata": {
        "id": "uoOhQUmZEr1Q"
      },
      "outputs": [],
      "source": [
        "# NLTK, library NLP di bahasa pemrograman python\n",
        "import nltk\n",
        "\n",
        "# Regex (re), library untuk mengenali dan memanipulasi pola text\n",
        "import re\n",
        "\n",
        "from nltk.corpus import stopwords\n",
        "from nltk.stem import PorterStemmer\n",
        "from nltk.stem import WordNetLemmatizer\n",
        "from nltk import word_tokenize"
      ]
    },
    {
      "cell_type": "code",
      "execution_count": 3,
      "metadata": {
        "colab": {
          "base_uri": "https://localhost:8080/"
        },
        "id": "BitSW8LAEn9H",
        "outputId": "dba357c7-f3b8-41f6-feef-ebf4b9c5c281"
      },
      "outputs": [
        {
          "name": "stderr",
          "output_type": "stream",
          "text": [
            "[nltk_data] Downloading package punkt to\n",
            "[nltk_data]     C:\\Users\\Asus\\AppData\\Roaming\\nltk_data...\n",
            "[nltk_data]   Package punkt is already up-to-date!\n",
            "[nltk_data] Downloading package stopwords to\n",
            "[nltk_data]     C:\\Users\\Asus\\AppData\\Roaming\\nltk_data...\n",
            "[nltk_data]   Package stopwords is already up-to-date!\n",
            "[nltk_data] Downloading package wordnet to\n",
            "[nltk_data]     C:\\Users\\Asus\\AppData\\Roaming\\nltk_data...\n",
            "[nltk_data]   Package wordnet is already up-to-date!\n"
          ]
        },
        {
          "data": {
            "text/plain": [
              "True"
            ]
          },
          "execution_count": 3,
          "metadata": {},
          "output_type": "execute_result"
        }
      ],
      "source": [
        "nltk.download('punkt')\n",
        "nltk.download('stopwords')\n",
        "nltk.download('wordnet')"
      ]
    },
    {
      "cell_type": "markdown",
      "metadata": {
        "id": "67Z5TSgQQvVb"
      },
      "source": [
        "# Load Data JSON"
      ]
    },
    {
      "cell_type": "code",
      "execution_count": 4,
      "metadata": {
        "id": "hnu3W2R1BkRY"
      },
      "outputs": [],
      "source": [
        "\n",
        "# # Membaca file JSON\n",
        "with open('dataset.json', 'r') as file:\n",
        "    data = json.load(file)\n"
      ]
    },
    {
      "cell_type": "code",
      "execution_count": 5,
      "metadata": {
        "colab": {
          "base_uri": "https://localhost:8080/"
        },
        "id": "5UnAqHEJEaXk",
        "outputId": "dc70717f-d991-428a-d085-9ad1de81a34c"
      },
      "outputs": [
        {
          "name": "stdout",
          "output_type": "stream",
          "text": [
            "                                                 url                 date  \\\n",
            "0  https://sport.detik.com/sepakbola/liga-spanyol...  2018-03-31 02:20:00   \n",
            "\n",
            "                                title  \\\n",
            "0  Disindir Isco, Zidane Membela Diri   \n",
            "\n",
            "                                             content  \n",
            "0  Madrid - Isco seperti menyindir pelatihnya di ...  \n"
          ]
        }
      ],
      "source": [
        "# Menampilkan DataFrame\n",
        "df = pd.DataFrame([data])\n",
        "print(df)"
      ]
    },
    {
      "cell_type": "code",
      "execution_count": 6,
      "metadata": {
        "colab": {
          "base_uri": "https://localhost:8080/",
          "height": 81
        },
        "id": "nWCulX9HPvdw",
        "outputId": "b3752513-244d-470e-beef-dcbd8d8c01e6"
      },
      "outputs": [
        {
          "data": {
            "text/html": [
              "<div>\n",
              "<style scoped>\n",
              "    .dataframe tbody tr th:only-of-type {\n",
              "        vertical-align: middle;\n",
              "    }\n",
              "\n",
              "    .dataframe tbody tr th {\n",
              "        vertical-align: top;\n",
              "    }\n",
              "\n",
              "    .dataframe thead th {\n",
              "        text-align: right;\n",
              "    }\n",
              "</style>\n",
              "<table border=\"1\" class=\"dataframe\">\n",
              "  <thead>\n",
              "    <tr style=\"text-align: right;\">\n",
              "      <th></th>\n",
              "      <th>url</th>\n",
              "      <th>date</th>\n",
              "      <th>title</th>\n",
              "      <th>content</th>\n",
              "    </tr>\n",
              "  </thead>\n",
              "  <tbody>\n",
              "    <tr>\n",
              "      <th>0</th>\n",
              "      <td>https://sport.detik.com/sepakbola/liga-spanyol...</td>\n",
              "      <td>2018-03-31 02:20:00</td>\n",
              "      <td>Disindir Isco, Zidane Membela Diri</td>\n",
              "      <td>Madrid - Isco seperti menyindir pelatihnya di ...</td>\n",
              "    </tr>\n",
              "  </tbody>\n",
              "</table>\n",
              "</div>"
            ],
            "text/plain": [
              "                                                 url                 date  \\\n",
              "0  https://sport.detik.com/sepakbola/liga-spanyol...  2018-03-31 02:20:00   \n",
              "\n",
              "                                title  \\\n",
              "0  Disindir Isco, Zidane Membela Diri   \n",
              "\n",
              "                                             content  \n",
              "0  Madrid - Isco seperti menyindir pelatihnya di ...  "
            ]
          },
          "execution_count": 6,
          "metadata": {},
          "output_type": "execute_result"
        }
      ],
      "source": [
        "df.head()"
      ]
    },
    {
      "cell_type": "code",
      "execution_count": 7,
      "metadata": {
        "colab": {
          "base_uri": "https://localhost:8080/"
        },
        "id": "ECu2fms3QXLg",
        "outputId": "c038d7de-396a-4963-c646-66c0332bedad"
      },
      "outputs": [
        {
          "name": "stdout",
          "output_type": "stream",
          "text": [
            "<class 'pandas.core.frame.DataFrame'>\n",
            "RangeIndex: 1 entries, 0 to 0\n",
            "Data columns (total 4 columns):\n",
            " #   Column   Non-Null Count  Dtype \n",
            "---  ------   --------------  ----- \n",
            " 0   url      1 non-null      object\n",
            " 1   date     1 non-null      object\n",
            " 2   title    1 non-null      object\n",
            " 3   content  1 non-null      object\n",
            "dtypes: object(4)\n",
            "memory usage: 160.0+ bytes\n"
          ]
        }
      ],
      "source": [
        "df.info()"
      ]
    },
    {
      "cell_type": "markdown",
      "metadata": {
        "id": "7omamVj_Q2gF"
      },
      "source": [
        "# Membuat Text menjadi Lowercase"
      ]
    },
    {
      "cell_type": "code",
      "execution_count": 8,
      "metadata": {
        "colab": {
          "base_uri": "https://localhost:8080/",
          "height": 109
        },
        "id": "UibM0CREQ9Xn",
        "outputId": "c8b00aa8-429c-4fe3-801d-48d4d67cef33"
      },
      "outputs": [
        {
          "data": {
            "text/plain": [
              "'Madrid - Isco seperti menyindir pelatihnya di Real Madrid, Zinedine Zidane, setelah tampil gemilang di Timnas Spanyol. Zidane punya pembelaan untuk sindiran Isco ini. Isco menjadi bintang lapangan ketika Spanyol berhadapan dengan Argentina di laga persahabatan pada Selasa (27/3/2018). Gelandang berusia 25 tahun itu mengukir hat-trick untuk memenangkan La Furia Roja dengan skor telak 6-1. Seusai pertandingan tersebut, Isco mengaku bisa tampil oke di timnas karena merasa dipercaya oleh pelatih Julen Lopetegui, sementara di klub dia merasa belum mampu merebut hati Zidane sehingga lebih sering jadi cadangan belakangan ini. Mendengar hal tersebut, Zidane langsung berkomentar. Ia membantah kalau dianggap kurang percaya kepada Isco. \"Saya merasa bukan sosok yang tidak adil. Saya pikir apa yang dia katakan bisa ditafsirkan bermacam-macam. Mungkin Isco punya peran yang berbeda di Spanyol dibandingkan di sini, tapi dia tetap penting. Saya selalu merasa dia penting untuk tim ini dan wajar saja seorang pemain ingin bermain lebih sering,\" ujar Zidane di Soccerway. \"Tapi, tugas saya adalah memilih 11 pemain. Dia adalah pemain penting dan akan selalu begitu. Semua tergantung interpretasi dan saya sama sekali tidak kecewa dengan Isco,\" lanjutnya. \"Saya senang dengan performanya. Dia tampil impresif kala melawan Argentina dan Spanyol juga mengesankan. Saya hanya memastikan bahwa Isco adalah pemain Real Madrid dan akan tetap di sini, hanya itu,\" kata Zidane. \"Isco sama sekali tidak salah, kapan pun dia bermain, dia selalu memberikan 100 persen dan bekerja keras. Saya pikir tak ada masalah dengan Isco. Tapi, saya punya 25 pemain dan cuma 11 yang bisa main. Saya senang dengan Isco, tak ada masalah,\" ujarnya. Zidane memastikan Isco, juga Sergio Ramos, akan absen pada laga melawan Las Palmas pada Sabtu (31/3/2018). Dua pemain itu mengalami cedera ringan. (mfi/mfi)'"
            ]
          },
          "execution_count": 8,
          "metadata": {},
          "output_type": "execute_result"
        }
      ],
      "source": [
        "\n",
        "# Mengambil teks dari kolom content\n",
        "text = df['content'].values[0]\n",
        "text\n"
      ]
    },
    {
      "cell_type": "markdown",
      "metadata": {
        "id": "RSYbNYF3Sdxo"
      },
      "source": [
        "# Menghilangkan karakter khusus pada teks"
      ]
    },
    {
      "cell_type": "code",
      "execution_count": 9,
      "metadata": {
        "colab": {
          "base_uri": "https://localhost:8080/",
          "height": 109
        },
        "id": "-hxYXxaJSw1i",
        "outputId": "34be722e-7469-4437-d1b3-9616c88d8759"
      },
      "outputs": [
        {
          "data": {
            "text/plain": [
              "'Madrid  Isco seperti menyindir pelatihnya di Real Madrid Zinedine Zidane setelah tampil gemilang di Timnas Spanyol Zidane punya pembelaan untuk sindiran Isco ini Isco menjadi bintang lapangan ketika Spanyol berhadapan dengan Argentina di laga persahabatan pada Selasa 2732018 Gelandang berusia 25 tahun itu mengukir hattrick untuk memenangkan La Furia Roja dengan skor telak 61 Seusai pertandingan tersebut Isco mengaku bisa tampil oke di timnas karena merasa dipercaya oleh pelatih Julen Lopetegui sementara di klub dia merasa belum mampu merebut hati Zidane sehingga lebih sering jadi cadangan belakangan ini Mendengar hal tersebut Zidane langsung berkomentar Ia membantah kalau dianggap kurang percaya kepada Isco Saya merasa bukan sosok yang tidak adil Saya pikir apa yang dia katakan bisa ditafsirkan bermacammacam Mungkin Isco punya peran yang berbeda di Spanyol dibandingkan di sini tapi dia tetap penting Saya selalu merasa dia penting untuk tim ini dan wajar saja seorang pemain ingin bermain lebih sering ujar Zidane di Soccerway Tapi tugas saya adalah memilih 11 pemain Dia adalah pemain penting dan akan selalu begitu Semua tergantung interpretasi dan saya sama sekali tidak kecewa dengan Isco lanjutnya Saya senang dengan performanya Dia tampil impresif kala melawan Argentina dan Spanyol juga mengesankan Saya hanya memastikan bahwa Isco adalah pemain Real Madrid dan akan tetap di sini hanya itu kata Zidane Isco sama sekali tidak salah kapan pun dia bermain dia selalu memberikan 100 persen dan bekerja keras Saya pikir tak ada masalah dengan Isco Tapi saya punya 25 pemain dan cuma 11 yang bisa main Saya senang dengan Isco tak ada masalah ujarnya Zidane memastikan Isco juga Sergio Ramos akan absen pada laga melawan Las Palmas pada Sabtu 3132018 Dua pemain itu mengalami cedera ringan mfimfi'"
            ]
          },
          "execution_count": 9,
          "metadata": {},
          "output_type": "execute_result"
        }
      ],
      "source": [
        "text = re.sub(r\"[-()\\\"#/@;:<>{}`+=~|.!?,]\", \"\", text)\n",
        "text"
      ]
    },
    {
      "cell_type": "markdown",
      "metadata": {
        "id": "DjEX_tAOS0Zr"
      },
      "source": [
        "# Mengubah teks menjadi token (Tokenization)"
      ]
    },
    {
      "cell_type": "code",
      "execution_count": 10,
      "metadata": {
        "colab": {
          "base_uri": "https://localhost:8080/"
        },
        "id": "D17hi_nMS3TD",
        "outputId": "4a5ab188-cb19-4bbb-e99d-f58d456ff47c"
      },
      "outputs": [
        {
          "name": "stdout",
          "output_type": "stream",
          "text": [
            "['Madrid', 'Isco', 'seperti', 'menyindir', 'pelatihnya', 'di', 'Real', 'Madrid', 'Zinedine', 'Zidane', 'setelah', 'tampil', 'gemilang', 'di', 'Timnas', 'Spanyol', 'Zidane', 'punya', 'pembelaan', 'untuk', 'sindiran', 'Isco', 'ini', 'Isco', 'menjadi', 'bintang', 'lapangan', 'ketika', 'Spanyol', 'berhadapan', 'dengan', 'Argentina', 'di', 'laga', 'persahabatan', 'pada', 'Selasa', '2732018', 'Gelandang', 'berusia', '25', 'tahun', 'itu', 'mengukir', 'hattrick', 'untuk', 'memenangkan', 'La', 'Furia', 'Roja', 'dengan', 'skor', 'telak', '61', 'Seusai', 'pertandingan', 'tersebut', 'Isco', 'mengaku', 'bisa', 'tampil', 'oke', 'di', 'timnas', 'karena', 'merasa', 'dipercaya', 'oleh', 'pelatih', 'Julen', 'Lopetegui', 'sementara', 'di', 'klub', 'dia', 'merasa', 'belum', 'mampu', 'merebut', 'hati', 'Zidane', 'sehingga', 'lebih', 'sering', 'jadi', 'cadangan', 'belakangan', 'ini', 'Mendengar', 'hal', 'tersebut', 'Zidane', 'langsung', 'berkomentar', 'Ia', 'membantah', 'kalau', 'dianggap', 'kurang', 'percaya', 'kepada', 'Isco', 'Saya', 'merasa', 'bukan', 'sosok', 'yang', 'tidak', 'adil', 'Saya', 'pikir', 'apa', 'yang', 'dia', 'katakan', 'bisa', 'ditafsirkan', 'bermacammacam', 'Mungkin', 'Isco', 'punya', 'peran', 'yang', 'berbeda', 'di', 'Spanyol', 'dibandingkan', 'di', 'sini', 'tapi', 'dia', 'tetap', 'penting', 'Saya', 'selalu', 'merasa', 'dia', 'penting', 'untuk', 'tim', 'ini', 'dan', 'wajar', 'saja', 'seorang', 'pemain', 'ingin', 'bermain', 'lebih', 'sering', 'ujar', 'Zidane', 'di', 'Soccerway', 'Tapi', 'tugas', 'saya', 'adalah', 'memilih', '11', 'pemain', 'Dia', 'adalah', 'pemain', 'penting', 'dan', 'akan', 'selalu', 'begitu', 'Semua', 'tergantung', 'interpretasi', 'dan', 'saya', 'sama', 'sekali', 'tidak', 'kecewa', 'dengan', 'Isco', 'lanjutnya', 'Saya', 'senang', 'dengan', 'performanya', 'Dia', 'tampil', 'impresif', 'kala', 'melawan', 'Argentina', 'dan', 'Spanyol', 'juga', 'mengesankan', 'Saya', 'hanya', 'memastikan', 'bahwa', 'Isco', 'adalah', 'pemain', 'Real', 'Madrid', 'dan', 'akan', 'tetap', 'di', 'sini', 'hanya', 'itu', 'kata', 'Zidane', 'Isco', 'sama', 'sekali', 'tidak', 'salah', 'kapan', 'pun', 'dia', 'bermain', 'dia', 'selalu', 'memberikan', '100', 'persen', 'dan', 'bekerja', 'keras', 'Saya', 'pikir', 'tak', 'ada', 'masalah', 'dengan', 'Isco', 'Tapi', 'saya', 'punya', '25', 'pemain', 'dan', 'cuma', '11', 'yang', 'bisa', 'main', 'Saya', 'senang', 'dengan', 'Isco', 'tak', 'ada', 'masalah', 'ujarnya', 'Zidane', 'memastikan', 'Isco', 'juga', 'Sergio', 'Ramos', 'akan', 'absen', 'pada', 'laga', 'melawan', 'Las', 'Palmas', 'pada', 'Sabtu', '3132018', 'Dua', 'pemain', 'itu', 'mengalami', 'cedera', 'ringan', 'mfimfi']\n"
          ]
        }
      ],
      "source": [
        "tokens = word_tokenize(text)\n",
        "print(tokens)"
      ]
    },
    {
      "cell_type": "markdown",
      "metadata": {
        "id": "r6cMW1U5TAD6"
      },
      "source": [
        "# Menghilangkan Stop Words dalam bahasa Indonesia"
      ]
    },
    {
      "cell_type": "code",
      "execution_count": 11,
      "metadata": {
        "colab": {
          "base_uri": "https://localhost:8080/"
        },
        "id": "4fhFbnvLTBRE",
        "outputId": "88a7c3f3-e596-4d34-a239-e14c2d39a0db"
      },
      "outputs": [
        {
          "name": "stdout",
          "output_type": "stream",
          "text": [
            "Requirement already satisfied: Sastrawi in c:\\users\\asus\\anaconda3\\envs\\tensorflow\\lib\\site-packages (1.0.1)\n"
          ]
        },
        {
          "name": "stderr",
          "output_type": "stream",
          "text": [
            "WARNING: Ignoring invalid distribution -pencv-python (c:\\users\\asus\\anaconda3\\envs\\tensorflow\\lib\\site-packages)\n",
            "WARNING: Ignoring invalid distribution -pencv-python (c:\\users\\asus\\anaconda3\\envs\\tensorflow\\lib\\site-packages)\n",
            "WARNING: Ignoring invalid distribution -pencv-python (c:\\users\\asus\\anaconda3\\envs\\tensorflow\\lib\\site-packages)\n",
            "WARNING: Ignoring invalid distribution -pencv-python (c:\\users\\asus\\anaconda3\\envs\\tensorflow\\lib\\site-packages)\n",
            "WARNING: Ignoring invalid distribution -pencv-python (c:\\users\\asus\\anaconda3\\envs\\tensorflow\\lib\\site-packages)\n",
            "WARNING: Ignoring invalid distribution -pencv-python (c:\\users\\asus\\anaconda3\\envs\\tensorflow\\lib\\site-packages)\n"
          ]
        }
      ],
      "source": [
        "# Install library Sastrawi\n",
        "\n",
        "!pip install Sastrawi"
      ]
    },
    {
      "cell_type": "code",
      "execution_count": 12,
      "metadata": {
        "colab": {
          "base_uri": "https://localhost:8080/"
        },
        "id": "YIgn7Y8bTCvk",
        "outputId": "0bd85b35-d4fe-4e4d-f2ae-1a5ae91ae668"
      },
      "outputs": [
        {
          "name": "stdout",
          "output_type": "stream",
          "text": [
            "['a', 'ada', 'adalah', 'adanya', 'adapun', 'agak', 'agaknya', 'agar', 'akan', 'akankah', 'akhir', 'akhiri', 'akhirnya', 'aku', 'akulah', 'amat', 'amatlah', 'anda', 'andalah', 'antar', 'antara', 'antaranya', 'apa', 'apaan', 'apabila', 'apakah', 'apalagi', 'apatah', 'arti', 'artinya', 'asal', 'asalkan', 'atas', 'atau', 'ataukah', 'ataupun', 'awal', 'awalnya', 'b', 'bagai', 'bagaikan', 'bagaimana', 'bagaimanakah', 'bagaimanapun', 'bagainamakah', 'bagi', 'bagian', 'bahkan', 'bahwa', 'bahwasannya', 'bahwasanya', 'baik', 'baiklah', 'bakal', 'bakalan', 'balik', 'banyak', 'bapak', 'baru', 'bawah', 'beberapa', 'begini', 'beginian', 'beginikah', 'beginilah', 'begitu', 'begitukah', 'begitulah', 'begitupun', 'bekerja', 'belakang', 'belakangan', 'belum', 'belumlah', 'benar', 'benarkah', 'benarlah', 'berada', 'berakhir', 'berakhirlah', 'berakhirnya', 'berapa', 'berapakah', 'berapalah', 'berapapun', 'berarti', 'berawal', 'berbagai', 'berdatangan', 'beri', 'berikan', 'berikut', 'berikutnya', 'berjumlah', 'berkali-kali', 'berkata', 'berkehendak', 'berkeinginan', 'berkenaan', 'berlainan', 'berlalu', 'berlangsung', 'berlebihan', 'bermacam', 'bermacam-macam', 'bermaksud', 'bermula', 'bersama', 'bersama-sama', 'bersiap', 'bersiap-siap', 'bertanya', 'bertanya-tanya', 'berturut', 'berturut-turut', 'bertutur', 'berujar', 'berupa', 'besar', 'betul', 'betulkah', 'biasa', 'biasanya', 'bila', 'bilakah', 'bisa', 'bisakah', 'boleh', 'bolehkah', 'bolehlah', 'buat', 'bukan', 'bukankah', 'bukanlah', 'bukannya', 'bulan', 'bung', 'c', 'cara', 'caranya', 'cukup', 'cukupkah', 'cukuplah', 'cuma', 'd', 'dahulu', 'dalam', 'dan', 'dapat', 'dari', 'daripada', 'datang', 'dekat', 'demi', 'demikian', 'demikianlah', 'dengan', 'depan', 'di', 'dia', 'diakhiri', 'diakhirinya', 'dialah', 'diantara', 'diantaranya', 'diberi', 'diberikan', 'diberikannya', 'dibuat', 'dibuatnya', 'didapat', 'didatangkan', 'digunakan', 'diibaratkan', 'diibaratkannya', 'diingat', 'diingatkan', 'diinginkan', 'dijawab', 'dijelaskan', 'dijelaskannya', 'dikarenakan', 'dikatakan', 'dikatakannya', 'dikerjakan', 'diketahui', 'diketahuinya', 'dikira', 'dilakukan', 'dilalui', 'dilihat', 'dimaksud', 'dimaksudkan', 'dimaksudkannya', 'dimaksudnya', 'diminta', 'dimintai', 'dimisalkan', 'dimulai', 'dimulailah', 'dimulainya', 'dimungkinkan', 'dini', 'dipastikan', 'diperbuat', 'diperbuatnya', 'dipergunakan', 'diperkirakan', 'diperlihatkan', 'diperlukan', 'diperlukannya', 'dipersoalkan', 'dipertanyakan', 'dipunyai', 'diri', 'dirinya', 'disampaikan', 'disebut', 'disebutkan', 'disebutkannya', 'disini', 'disinilah', 'ditambahkan', 'ditandaskan', 'ditanya', 'ditanyai', 'ditanyakan', 'ditegaskan', 'ditujukan', 'ditunjuk', 'ditunjuki', 'ditunjukkan', 'ditunjukkannya', 'ditunjuknya', 'dituturkan', 'dituturkannya', 'diucapkan', 'diucapkannya', 'diungkapkan', 'dong', 'dua', 'dulu', 'e', 'empat', 'enak', 'enggak', 'enggaknya', 'entah', 'entahlah', 'f', 'g', 'guna', 'gunakan', 'h', 'hadap', 'hai', 'hal', 'halo', 'hallo', 'hampir', 'hanya', 'hanyalah', 'hari', 'harus', 'haruslah', 'harusnya', 'helo', 'hello', 'hendak', 'hendaklah', 'hendaknya', 'hingga', 'i', 'ia', 'ialah', 'ibarat', 'ibaratkan', 'ibaratnya', 'ibu', 'ikut', 'ingat', 'ingat-ingat', 'ingin', 'inginkah', 'inginkan', 'ini', 'inikah', 'inilah', 'itu', 'itukah', 'itulah', 'j', 'jadi', 'jadilah', 'jadinya', 'jangan', 'jangankan', 'janganlah', 'jauh', 'jawab', 'jawaban', 'jawabnya', 'jelas', 'jelaskan', 'jelaslah', 'jelasnya', 'jika', 'jikalau', 'juga', 'jumlah', 'jumlahnya', 'justru', 'k', 'kadar', 'kala', 'kalau', 'kalaulah', 'kalaupun', 'kali', 'kalian', 'kami', 'kamilah', 'kamu', 'kamulah', 'kan', 'kapan', 'kapankah', 'kapanpun', 'karena', 'karenanya', 'kasus', 'kata', 'katakan', 'katakanlah', 'katanya', 'ke', 'keadaan', 'kebetulan', 'kecil', 'kedua', 'keduanya', 'keinginan', 'kelamaan', 'kelihatan', 'kelihatannya', 'kelima', 'keluar', 'kembali', 'kemudian', 'kemungkinan', 'kemungkinannya', 'kena', 'kenapa', 'kepada', 'kepadanya', 'kerja', 'kesampaian', 'keseluruhan', 'keseluruhannya', 'keterlaluan', 'ketika', 'khusus', 'khususnya', 'kini', 'kinilah', 'kira', 'kira-kira', 'kiranya', 'kita', 'kitalah', 'kok', 'kurang', 'l', 'lagi', 'lagian', 'lah', 'lain', 'lainnya', 'laku', 'lalu', 'lama', 'lamanya', 'langsung', 'lanjut', 'lanjutnya', 'lebih', 'lewat', 'lihat', 'lima', 'luar', 'm', 'macam', 'maka', 'makanya', 'makin', 'maksud', 'malah', 'malahan', 'mampu', 'mampukah', 'mana', 'manakala', 'manalagi', 'masa', 'masalah', 'masalahnya', 'masih', 'masihkah', 'masing', 'masing-masing', 'masuk', 'mata', 'mau', 'maupun', 'melainkan', 'melakukan', 'melalui', 'melihat', 'melihatnya', 'memang', 'memastikan', 'memberi', 'memberikan', 'membuat', 'memerlukan', 'memihak', 'meminta', 'memintakan', 'memisalkan', 'memperbuat', 'mempergunakan', 'memperkirakan', 'memperlihatkan', 'mempersiapkan', 'mempersoalkan', 'mempertanyakan', 'mempunyai', 'memulai', 'memungkinkan', 'menaiki', 'menambahkan', 'menandaskan', 'menanti', 'menanti-nanti', 'menantikan', 'menanya', 'menanyai', 'menanyakan', 'mendapat', 'mendapatkan', 'mendatang', 'mendatangi', 'mendatangkan', 'menegaskan', 'mengakhiri', 'mengapa', 'mengatakan', 'mengatakannya', 'mengenai', 'mengerjakan', 'mengetahui', 'menggunakan', 'menghendaki', 'mengibaratkan', 'mengibaratkannya', 'mengingat', 'mengingatkan', 'menginginkan', 'mengira', 'mengucapkan', 'mengucapkannya', 'mengungkapkan', 'menjadi', 'menjawab', 'menjelaskan', 'menuju', 'menunjuk', 'menunjuki', 'menunjukkan', 'menunjuknya', 'menurut', 'menuturkan', 'menyampaikan', 'menyangkut', 'menyatakan', 'menyebutkan', 'menyeluruh', 'menyiapkan', 'merasa', 'mereka', 'merekalah', 'merupakan', 'meski', 'meskipun', 'meyakini', 'meyakinkan', 'minta', 'mirip', 'misal', 'misalkan', 'misalnya', 'mohon', 'mula', 'mulai', 'mulailah', 'mulanya', 'mungkin', 'mungkinkah', 'n', 'nah', 'naik', 'namun', 'nanti', 'nantinya', 'nya', 'nyaris', 'nyata', 'nyatanya', 'o', 'oleh', 'olehnya', 'orang', 'p', 'pada', 'padahal', 'padanya', 'pak', 'paling', 'panjang', 'pantas', 'para', 'pasti', 'pastilah', 'penting', 'pentingnya', 'per', 'percuma', 'perlu', 'perlukah', 'perlunya', 'pernah', 'persoalan', 'pertama', 'pertama-tama', 'pertanyaan', 'pertanyakan', 'pihak', 'pihaknya', 'pukul', 'pula', 'pun', 'punya', 'q', 'r', 'rasa', 'rasanya', 'rupa', 'rupanya', 's', 'saat', 'saatnya', 'saja', 'sajalah', 'salam', 'saling', 'sama', 'sama-sama', 'sambil', 'sampai', 'sampai-sampai', 'sampaikan', 'sana', 'sangat', 'sangatlah', 'sangkut', 'satu', 'saya', 'sayalah', 'se', 'sebab', 'sebabnya', 'sebagai', 'sebagaimana', 'sebagainya', 'sebagian', 'sebaik', 'sebaik-baiknya', 'sebaiknya', 'sebaliknya', 'sebanyak', 'sebegini', 'sebegitu', 'sebelum', 'sebelumnya', 'sebenarnya', 'seberapa', 'sebesar', 'sebetulnya', 'sebisanya', 'sebuah', 'sebut', 'sebutlah', 'sebutnya', 'secara', 'secukupnya', 'sedang', 'sedangkan', 'sedemikian', 'sedikit', 'sedikitnya', 'seenaknya', 'segala', 'segalanya', 'segera', 'seharusnya', 'sehingga', 'seingat', 'sejak', 'sejauh', 'sejenak', 'sejumlah', 'sekadar', 'sekadarnya', 'sekali', 'sekali-kali', 'sekalian', 'sekaligus', 'sekalipun', 'sekarang', 'sekaranglah', 'sekecil', 'seketika', 'sekiranya', 'sekitar', 'sekitarnya', 'sekurang-kurangnya', 'sekurangnya', 'sela', 'selain', 'selaku', 'selalu', 'selama', 'selama-lamanya', 'selamanya', 'selanjutnya', 'seluruh', 'seluruhnya', 'semacam', 'semakin', 'semampu', 'semampunya', 'semasa', 'semasih', 'semata', 'semata-mata', 'semaunya', 'sementara', 'semisal', 'semisalnya', 'sempat', 'semua', 'semuanya', 'semula', 'sendiri', 'sendirian', 'sendirinya', 'seolah', 'seolah-olah', 'seorang', 'sepanjang', 'sepantasnya', 'sepantasnyalah', 'seperlunya', 'seperti', 'sepertinya', 'sepihak', 'sering', 'seringnya', 'serta', 'serupa', 'sesaat', 'sesama', 'sesampai', 'sesegera', 'sesekali', 'seseorang', 'sesuatu', 'sesuatunya', 'sesudah', 'sesudahnya', 'setelah', 'setempat', 'setengah', 'seterusnya', 'setiap', 'setiba', 'setibanya', 'setidak-tidaknya', 'setidaknya', 'setinggi', 'seusai', 'sewaktu', 'siap', 'siapa', 'siapakah', 'siapapun', 'sini', 'sinilah', 'soal', 'soalnya', 'suatu', 'sudah', 'sudahkah', 'sudahlah', 'supaya', 't', 'tadi', 'tadinya', 'tahu', 'tak', 'tambah', 'tambahnya', 'tampak', 'tampaknya', 'tandas', 'tandasnya', 'tanpa', 'tanya', 'tanyakan', 'tanyanya', 'tapi', 'tegas', 'tegasnya', 'telah', 'tempat', 'tentang', 'tentu', 'tentulah', 'tentunya', 'tepat', 'terakhir', 'terasa', 'terbanyak', 'terdahulu', 'terdapat', 'terdiri', 'terhadap', 'terhadapnya', 'teringat', 'teringat-ingat', 'terjadi', 'terjadilah', 'terjadinya', 'terkira', 'terlalu', 'terlebih', 'terlihat', 'termasuk', 'ternyata', 'tersampaikan', 'tersebut', 'tersebutlah', 'tertentu', 'tertuju', 'terus', 'terutama', 'tetap', 'tetapi', 'tiap', 'tiba', 'tiba-tiba', 'tidak', 'tidakkah', 'tidaklah', 'tiga', 'toh', 'tuju', 'tunjuk', 'turut', 'tutur', 'tuturnya', 'u', 'ucap', 'ucapnya', 'ujar', 'ujarnya', 'umumnya', 'ungkap', 'ungkapnya', 'untuk', 'usah', 'usai', 'v', 'w', 'waduh', 'wah', 'wahai', 'waktunya', 'walau', 'walaupun', 'wong', 'x', 'y', 'ya', 'yaitu', 'yakin', 'yakni', 'yang', 'z']\n"
          ]
        }
      ],
      "source": [
        "from Sastrawi.StopWordRemover.StopWordRemoverFactory import StopWordRemoverFactory\n",
        "from Sastrawi.Stemmer.StemmerFactory import StemmerFactory\n",
        "\n",
        "stopword_remover_factory = StopWordRemoverFactory()\n",
        "stemmer_factory = StemmerFactory()\n",
        "ina_stemmer = stemmer_factory.create_stemmer()\n",
        "ina_stopword = stopword_remover_factory.create_stop_word_remover()\n",
        "\n",
        "print(stopword_remover_factory.get_stop_words())"
      ]
    },
    {
      "cell_type": "code",
      "execution_count": 13,
      "metadata": {
        "colab": {
          "base_uri": "https://localhost:8080/"
        },
        "id": "oqjFh42qTT-O",
        "outputId": "96107e0f-ccd2-4cc4-82ad-041f25fb14ba"
      },
      "outputs": [
        {
          "name": "stdout",
          "output_type": "stream",
          "text": [
            "Madrid Isco seperti menyindir pelatihnya di Real Madrid Zinedine Zidane setelah tampil gemilang di Timnas Spanyol Zidane punya pembelaan untuk sindiran Isco ini Isco menjadi bintang lapangan ketika Spanyol berhadapan dengan Argentina di laga persahabatan pada Selasa 2732018 Gelandang berusia 25 tahun itu mengukir hattrick untuk memenangkan La Furia Roja dengan skor telak 61 Seusai pertandingan tersebut Isco mengaku bisa tampil oke di timnas karena merasa dipercaya oleh pelatih Julen Lopetegui sementara di klub dia merasa belum mampu merebut hati Zidane sehingga lebih sering jadi cadangan belakangan ini Mendengar hal tersebut Zidane langsung berkomentar Ia membantah kalau dianggap kurang percaya kepada Isco Saya merasa bukan sosok yang tidak adil Saya pikir apa yang dia katakan bisa ditafsirkan bermacammacam Mungkin Isco punya peran yang berbeda di Spanyol dibandingkan di sini tapi dia tetap penting Saya selalu merasa dia penting untuk tim ini dan wajar saja seorang pemain ingin bermain lebih sering ujar Zidane di Soccerway Tapi tugas saya adalah memilih 11 pemain Dia adalah pemain penting dan akan selalu begitu Semua tergantung interpretasi dan saya sama sekali tidak kecewa dengan Isco lanjutnya Saya senang dengan performanya Dia tampil impresif kala melawan Argentina dan Spanyol juga mengesankan Saya hanya memastikan bahwa Isco adalah pemain Real Madrid dan akan tetap di sini hanya itu kata Zidane Isco sama sekali tidak salah kapan pun dia bermain dia selalu memberikan 100 persen dan bekerja keras Saya pikir tak ada masalah dengan Isco Tapi saya punya 25 pemain dan cuma 11 yang bisa main Saya senang dengan Isco tak ada masalah ujarnya Zidane memastikan Isco juga Sergio Ramos akan absen pada laga melawan Las Palmas pada Sabtu 3132018 Dua pemain itu mengalami cedera ringan mfimfi\n"
          ]
        },
        {
          "data": {
            "text/plain": [
              "['Madrid',\n",
              " 'Isco',\n",
              " 'menyindir',\n",
              " 'pelatihnya',\n",
              " 'Real',\n",
              " 'Madrid',\n",
              " 'Zinedine',\n",
              " 'Zidane',\n",
              " 'tampil',\n",
              " 'gemilang',\n",
              " 'Timnas',\n",
              " 'Spanyol',\n",
              " 'Zidane',\n",
              " 'pembelaan',\n",
              " 'sindiran',\n",
              " 'Isco',\n",
              " 'Isco',\n",
              " 'bintang',\n",
              " 'lapangan',\n",
              " 'Spanyol',\n",
              " 'berhadapan',\n",
              " 'Argentina',\n",
              " 'laga',\n",
              " 'persahabatan',\n",
              " 'Selasa',\n",
              " '2732018',\n",
              " 'Gelandang',\n",
              " 'berusia',\n",
              " '25',\n",
              " 'tahun',\n",
              " 'mengukir',\n",
              " 'hattrick',\n",
              " 'memenangkan',\n",
              " 'La',\n",
              " 'Furia',\n",
              " 'Roja',\n",
              " 'skor',\n",
              " 'telak',\n",
              " '61',\n",
              " 'Seusai',\n",
              " 'pertandingan',\n",
              " 'Isco',\n",
              " 'mengaku',\n",
              " 'tampil',\n",
              " 'oke',\n",
              " 'timnas',\n",
              " 'dipercaya',\n",
              " 'pelatih',\n",
              " 'Julen',\n",
              " 'Lopetegui',\n",
              " 'klub',\n",
              " 'merebut',\n",
              " 'hati',\n",
              " 'Zidane',\n",
              " 'cadangan',\n",
              " 'Mendengar',\n",
              " 'Zidane',\n",
              " 'berkomentar',\n",
              " 'Ia',\n",
              " 'membantah',\n",
              " 'dianggap',\n",
              " 'percaya',\n",
              " 'Isco',\n",
              " 'Saya',\n",
              " 'sosok',\n",
              " 'adil',\n",
              " 'Saya',\n",
              " 'pikir',\n",
              " 'ditafsirkan',\n",
              " 'bermacammacam',\n",
              " 'Mungkin',\n",
              " 'Isco',\n",
              " 'peran',\n",
              " 'berbeda',\n",
              " 'Spanyol',\n",
              " 'dibandingkan',\n",
              " 'Saya',\n",
              " 'tim',\n",
              " 'wajar',\n",
              " 'pemain',\n",
              " 'bermain',\n",
              " 'Zidane',\n",
              " 'Soccerway',\n",
              " 'Tapi',\n",
              " 'tugas',\n",
              " 'memilih',\n",
              " '11',\n",
              " 'pemain',\n",
              " 'Dia',\n",
              " 'pemain',\n",
              " 'Semua',\n",
              " 'tergantung',\n",
              " 'interpretasi',\n",
              " 'kecewa',\n",
              " 'Isco',\n",
              " 'Saya',\n",
              " 'senang',\n",
              " 'performanya',\n",
              " 'Dia',\n",
              " 'tampil',\n",
              " 'impresif',\n",
              " 'melawan',\n",
              " 'Argentina',\n",
              " 'Spanyol',\n",
              " 'mengesankan',\n",
              " 'Saya',\n",
              " 'Isco',\n",
              " 'pemain',\n",
              " 'Real',\n",
              " 'Madrid',\n",
              " 'Zidane',\n",
              " 'Isco',\n",
              " 'salah',\n",
              " 'bermain',\n",
              " '100',\n",
              " 'persen',\n",
              " 'keras',\n",
              " 'Saya',\n",
              " 'pikir',\n",
              " 'Isco',\n",
              " 'Tapi',\n",
              " '25',\n",
              " 'pemain',\n",
              " '11',\n",
              " 'main',\n",
              " 'Saya',\n",
              " 'senang',\n",
              " 'Isco',\n",
              " 'Zidane',\n",
              " 'Isco',\n",
              " 'Sergio',\n",
              " 'Ramos',\n",
              " 'absen',\n",
              " 'laga',\n",
              " 'melawan',\n",
              " 'Las',\n",
              " 'Palmas',\n",
              " 'Sabtu',\n",
              " '3132018',\n",
              " 'Dua',\n",
              " 'pemain',\n",
              " 'mengalami',\n",
              " 'cedera',\n",
              " 'ringan',\n",
              " 'mfimfi']"
            ]
          },
          "execution_count": 13,
          "metadata": {},
          "output_type": "execute_result"
        }
      ],
      "source": [
        "# Membuat kalimat baru dari token yang sudah dibuat sebagai parameter untuk dapat digunakan pada fungsi ina_stopword.remove()\n",
        "text_from_token = ' '.join(tokens)\n",
        "print(text_from_token)\n",
        "\n",
        "text_from_token_no_stop_words = ina_stopword.remove(text_from_token)\n",
        "\n",
        "# Mengubah kalimat yang sudah tidak terdapat stop words menjadi token lagi\n",
        "token = word_tokenize(text_from_token_no_stop_words)\n",
        "token"
      ]
    },
    {
      "cell_type": "markdown",
      "metadata": {
        "id": "zE7EtxqSTZSv"
      },
      "source": [
        "# Stemming untuk Bahasa Indonesia"
      ]
    },
    {
      "cell_type": "code",
      "execution_count": 14,
      "metadata": {
        "colab": {
          "base_uri": "https://localhost:8080/",
          "height": 109
        },
        "id": "UYCGaX7bEcwL",
        "outputId": "fa875766-1b55-4eb8-84d5-f78e496b1402"
      },
      "outputs": [
        {
          "data": {
            "text/plain": [
              "'madrid isco sindir latih real madrid zinedine zidane tampil gemilang timnas spanyol zidane bela sindir isco isco bintang lapang spanyol hadap argentina laga sahabat selasa 2732018 gelandang usia 25 tahun ukir hattrick menang la furia roja skor telak 61 usai tanding isco aku tampil oke timnas percaya latih julen lopetegui klub rebut hati zidane cadang dengar zidane komentar ia ban anggap percaya isco saya sosok adil saya pikir tafsir bermacammacam mungkin isco peran beda spanyol banding saya tim wajar main main zidane soccerway tapi tugas pilih 11 main dia main semua gantung interpretasi kecewa isco saya senang performa dia tampil impresif lawan argentina spanyol kesan saya isco main real madrid zidane isco salah main 100 persen keras saya pikir isco tapi 25 main 11 main saya senang isco zidane isco sergio ramos absen laga lawan las palmas sabtu 3132018 dua main alami cedera ringan mfimfi'"
            ]
          },
          "execution_count": 14,
          "metadata": {},
          "output_type": "execute_result"
        }
      ],
      "source": [
        "stemmed_text = ina_stemmer.stem(text_from_token_no_stop_words)\n",
        "stemmed_text"
      ]
    },
    {
      "cell_type": "code",
      "execution_count": 15,
      "metadata": {
        "colab": {
          "base_uri": "https://localhost:8080/"
        },
        "id": "_TWT8ksQEcmz",
        "outputId": "4a7ae218-5313-4e4a-8683-646fbda36b34"
      },
      "outputs": [
        {
          "name": "stdout",
          "output_type": "stream",
          "text": [
            "['madrid', 'isco', 'sindir', 'latih', 'real', 'madrid', 'zinedine', 'zidane', 'tampil', 'gemilang', 'timnas', 'spanyol', 'zidane', 'bela', 'sindir', 'isco', 'isco', 'bintang', 'lapang', 'spanyol', 'hadap', 'argentina', 'laga', 'sahabat', 'selasa', '2732018', 'gelandang', 'usia', '25', 'tahun', 'ukir', 'hattrick', 'menang', 'la', 'furia', 'roja', 'skor', 'telak', '61', 'usai', 'tanding', 'isco', 'aku', 'tampil', 'oke', 'timnas', 'percaya', 'latih', 'julen', 'lopetegui', 'klub', 'rebut', 'hati', 'zidane', 'cadang', 'dengar', 'zidane', 'komentar', 'ia', 'ban', 'anggap', 'percaya', 'isco', 'saya', 'sosok', 'adil', 'saya', 'pikir', 'tafsir', 'bermacammacam', 'mungkin', 'isco', 'peran', 'beda', 'spanyol', 'banding', 'saya', 'tim', 'wajar', 'main', 'main', 'zidane', 'soccerway', 'tapi', 'tugas', 'pilih', '11', 'main', 'dia', 'main', 'semua', 'gantung', 'interpretasi', 'kecewa', 'isco', 'saya', 'senang', 'performa', 'dia', 'tampil', 'impresif', 'lawan', 'argentina', 'spanyol', 'kesan', 'saya', 'isco', 'main', 'real', 'madrid', 'zidane', 'isco', 'salah', 'main', '100', 'persen', 'keras', 'saya', 'pikir', 'isco', 'tapi', '25', 'main', '11', 'main', 'saya', 'senang', 'isco', 'zidane', 'isco', 'sergio', 'ramos', 'absen', 'laga', 'lawan', 'las', 'palmas', 'sabtu', '3132018', 'dua', 'main', 'alami', 'cedera', 'ringan', 'mfimfi']\n"
          ]
        }
      ],
      "source": [
        "token_from_stemmed_text = word_tokenize(stemmed_text)\n",
        "print(token_from_stemmed_text)"
      ]
    },
    {
      "cell_type": "markdown",
      "metadata": {
        "id": "lAgGGw74Tnh_"
      },
      "source": [
        "# Membuat Bag of Words dari teks Bahasa Indonesia"
      ]
    },
    {
      "cell_type": "code",
      "execution_count": 16,
      "metadata": {
        "colab": {
          "base_uri": "https://localhost:8080/"
        },
        "id": "aCrlTC2xEhlb",
        "outputId": "8f19ee5c-bb6e-458c-933e-498b831aa0d9"
      },
      "outputs": [
        {
          "name": "stdout",
          "output_type": "stream",
          "text": [
            "{'madrid': 3, 'isco': 12, 'sindir': 2, 'latih': 2, 'real': 2, 'zinedine': 1, 'zidane': 7, 'tampil': 3, 'gemilang': 1, 'timnas': 2, 'spanyol': 4, 'bela': 1, 'bintang': 1, 'lapang': 1, 'hadap': 1, 'argentina': 2, 'laga': 2, 'sahabat': 1, 'selasa': 1, '2732018': 1, 'gelandang': 1, 'usia': 1, '25': 2, 'tahun': 1, 'ukir': 1, 'hattrick': 1, 'menang': 1, 'la': 1, 'furia': 1, 'roja': 1, 'skor': 1, 'telak': 1, '61': 1, 'usai': 1, 'tanding': 1, 'aku': 1, 'oke': 1, 'percaya': 2, 'julen': 1, 'lopetegui': 1, 'klub': 1, 'rebut': 1, 'hati': 1, 'cadang': 1, 'dengar': 1, 'komentar': 1, 'ia': 1, 'ban': 1, 'anggap': 1, 'saya': 7, 'sosok': 1, 'adil': 1, 'pikir': 2, 'tafsir': 1, 'bermacammacam': 1, 'mungkin': 1, 'peran': 1, 'beda': 1, 'banding': 1, 'tim': 1, 'wajar': 1, 'main': 9, 'soccerway': 1, 'tapi': 2, 'tugas': 1, 'pilih': 1, '11': 2, 'dia': 2, 'semua': 1, 'gantung': 1, 'interpretasi': 1, 'kecewa': 1, 'senang': 2, 'performa': 1, 'impresif': 1, 'lawan': 2, 'kesan': 1, 'salah': 1, '100': 1, 'persen': 1, 'keras': 1, 'sergio': 1, 'ramos': 1, 'absen': 1, 'las': 1, 'palmas': 1, 'sabtu': 1, '3132018': 1, 'dua': 1, 'alami': 1, 'cedera': 1, 'ringan': 1, 'mfimfi': 1}\n"
          ]
        }
      ],
      "source": [
        "frekuensi_kata_ina = {}\n",
        "for kata in token_from_stemmed_text:\n",
        "  if kata not in frekuensi_kata_ina:\n",
        "    frekuensi_kata_ina[kata] = 1\n",
        "  else:\n",
        "    frekuensi_kata_ina[kata] += 1\n",
        "\n",
        "print(frekuensi_kata_ina)"
      ]
    },
    {
      "cell_type": "code",
      "execution_count": 17,
      "metadata": {
        "colab": {
          "base_uri": "https://localhost:8080/",
          "height": 607
        },
        "id": "_LRmYXZwEhiT",
        "outputId": "c327a9a9-8387-447c-ff41-672207e987ad"
      },
      "outputs": [
        {
          "data": {
            "image/png": "[encoded data removed]",
            "text/plain": [
              "<Figure size 864x432 with 1 Axes>"
            ]
          },
          "metadata": {
            "needs_background": "light"
          },
          "output_type": "display_data"
        }
      ],
      "source": [
        "import matplotlib.pyplot as plt\n",
        "\n",
        "# Data frekuensi kata\n",
        "kata = list(frekuensi_kata_ina.keys())\n",
        "frekuensi = list(frekuensi_kata_ina.values())\n",
        "\n",
        "# Membuat plot\n",
        "plt.figure(figsize=(12, 6))\n",
        "plt.bar(kata, frekuensi)\n",
        "plt.xlabel('Kata')\n",
        "plt.ylabel('Frekuensi')\n",
        "plt.title('Frekuensi Kata dalam Teks')\n",
        "plt.xticks(rotation=90)  # Untuk memutar label kata agar lebih mudah dibaca\n",
        "plt.tight_layout()\n",
        "\n",
        "# Menampilkan plot\n",
        "plt.show()\n"
      ]
    }
  ],
  "metadata": {
    "colab": {
      "provenance": []
    },
    "kernelspec": {
      "display_name": "Python 3",
      "name": "python3"
    },
    "language_info": {
      "codemirror_mode": {
        "name": "ipython",
        "version": 3
      },
      "file_extension": ".py",
      "mimetype": "text/x-python",
      "name": "python",
      "nbconvert_exporter": "python",
      "pygments_lexer": "ipython3",
      "version": "3.7.9"
    }
  },
  "nbformat": 4,
  "nbformat_minor": 0
}
